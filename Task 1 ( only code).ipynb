{
  "metadata": {
    "vscode": {
      "interpreter": {
        "hash": "3b7e9cb8e453d6cda0fe8c8dd13f891a1f09162f0e7c66ffeae7751a7aecf00d"
      }
    },
    "kernelspec": {
      "name": "python",
      "display_name": "Python (Pyodide)",
      "language": "python"
    },
    "language_info": {
      "codemirror_mode": {
        "name": "python",
        "version": 3
      },
      "file_extension": ".py",
      "mimetype": "text/x-python",
      "name": "python",
      "nbconvert_exporter": "python",
      "pygments_lexer": "ipython3",
      "version": "3.10.10"
    }
  },
  "nbformat_minor": 4,
  "nbformat": 4,
  "cells": [
    {
      "cell_type": "markdown",
      "source": "Hello ,\nMy self Ashutosh Singh.\nThis Project is for Classification of Iris Flower.\nIris flower has three species; setosa, versicolor, and virginica, which differs according to their\nmeasurements. Now assume that you have the measurements of the iris flowers according to\ntheir species, and here your task is to train a machine learning model that can learn from the\nmeasurements of the iris species and classify them",
      "metadata": {}
    },
    {
      "cell_type": "markdown",
      "source": "           For Loading Iris Dataset we are using sklearn ",
      "metadata": {}
    },
    {
      "cell_type": "code",
      "source": "from sklearn.datasets import load_iris  ",
      "metadata": {
        "trusted": true
      },
      "execution_count": null,
      "outputs": []
    },
    {
      "cell_type": "code",
      "source": "iris = load_iris()",
      "metadata": {
        "trusted": true
      },
      "execution_count": null,
      "outputs": []
    },
    {
      "cell_type": "markdown",
      "source": "             To check the Dataset that is available ",
      "metadata": {}
    },
    {
      "cell_type": "code",
      "source": "iris",
      "metadata": {
        "trusted": true
      },
      "execution_count": null,
      "outputs": []
    },
    {
      "cell_type": "markdown",
      "source": "                          Checking the Data",
      "metadata": {}
    },
    {
      "cell_type": "code",
      "source": "iris.data",
      "metadata": {
        "trusted": true
      },
      "execution_count": null,
      "outputs": []
    },
    {
      "cell_type": "code",
      "source": "iris.target",
      "metadata": {
        "trusted": true
      },
      "execution_count": null,
      "outputs": []
    },
    {
      "cell_type": "code",
      "source": "iris.target_names",
      "metadata": {
        "trusted": true
      },
      "execution_count": null,
      "outputs": []
    },
    {
      "cell_type": "markdown",
      "source": "               What are the features of Iris flower",
      "metadata": {}
    },
    {
      "cell_type": "code",
      "source": "iris.feature_names",
      "metadata": {
        "trusted": true
      },
      "execution_count": null,
      "outputs": []
    },
    {
      "cell_type": "markdown",
      "source": "               Dependent & Independent Variables",
      "metadata": {}
    },
    {
      "cell_type": "code",
      "source": "x = iris.data\ny = iris.target",
      "metadata": {
        "trusted": true
      },
      "execution_count": null,
      "outputs": []
    },
    {
      "cell_type": "markdown",
      "source": "         spliting data into train and test as groups to simplyfy them",
      "metadata": {}
    },
    {
      "cell_type": "code",
      "source": "from sklearn.model_selection import train_test_split",
      "metadata": {
        "trusted": true
      },
      "execution_count": null,
      "outputs": []
    },
    {
      "cell_type": "code",
      "source": "x_train, x_test, y_train, y_test = train_test_split(x, y, test_size=0.30, random_state=3)\nx_train \n",
      "metadata": {
        "trusted": true
      },
      "execution_count": null,
      "outputs": []
    },
    {
      "cell_type": "markdown",
      "source": "                           Using KNN Classifier(k nearest neighbour )  ",
      "metadata": {}
    },
    {
      "cell_type": "code",
      "source": "from sklearn.neighbors import KNeighborsClassifier\n",
      "metadata": {
        "trusted": true
      },
      "execution_count": null,
      "outputs": []
    },
    {
      "cell_type": "code",
      "source": "knn = KNeighborsClassifier(n_neighbors = 3)",
      "metadata": {
        "trusted": true
      },
      "execution_count": null,
      "outputs": []
    },
    {
      "cell_type": "code",
      "source": "knn.fit(x_train, y_train)",
      "metadata": {
        "trusted": true
      },
      "execution_count": null,
      "outputs": []
    },
    {
      "cell_type": "code",
      "source": "y_pred = knn.predict(x_test)\ny_pred",
      "metadata": {
        "trusted": true
      },
      "execution_count": null,
      "outputs": []
    },
    {
      "cell_type": "code",
      "source": "y_test",
      "metadata": {
        "trusted": true
      },
      "execution_count": null,
      "outputs": []
    },
    {
      "cell_type": "markdown",
      "source": "        What is the Accuracy of Classification ?",
      "metadata": {}
    },
    {
      "cell_type": "code",
      "source": "print('accuracy score is' )\nfrom sklearn.metrics import accuracy_score\naccuracy_score(y_test,y_pred)\n",
      "metadata": {
        "trusted": true
      },
      "execution_count": null,
      "outputs": []
    },
    {
      "cell_type": "markdown",
      "source": "              The Accuracy score is 95 %.\n                        Thank You",
      "metadata": {}
    }
  ]
}